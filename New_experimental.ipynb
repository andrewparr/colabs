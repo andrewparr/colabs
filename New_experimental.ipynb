{
  "nbformat": 4,
  "nbformat_minor": 0,
  "metadata": {
    "colab": {
      "provenance": [],
      "authorship_tag": "ABX9TyPADTfuaNAj/yQDxHmXLG8n",
      "include_colab_link": true
    },
    "kernelspec": {
      "name": "python3",
      "display_name": "Python 3"
    },
    "language_info": {
      "name": "python"
    }
  },
  "cells": [
    {
      "cell_type": "markdown",
      "metadata": {
        "id": "view-in-github",
        "colab_type": "text"
      },
      "source": [
        "<a href=\"https://colab.research.google.com/github/andrewparr/colabs/blob/main/New_experimental.ipynb\" target=\"_parent\"><img src=\"https://colab.research.google.com/assets/colab-badge.svg\" alt=\"Open In Colab\"/></a>"
      ]
    },
    {
      "cell_type": "code",
      "execution_count": null,
      "metadata": {
        "colab": {
          "base_uri": "https://localhost:8080/"
        },
        "id": "DT-6DKnkFeHs",
        "outputId": "1a55f29c-63fb-4faa-8acb-7e1475c23845"
      },
      "outputs": [
        {
          "output_type": "stream",
          "name": "stdout",
          "text": [
            "Writing helloworld.cpp\n"
          ]
        }
      ],
      "source": [
        "%%writefile helloworld.cpp\n",
        "#include <iostream>\n",
        "int main() {\n",
        "  std::cout << \"Hello, world!\" << std::endl;\n",
        "  return 0;\n",
        "}"
      ]
    },
    {
      "cell_type": "code",
      "source": [
        "! g++ helloworld.cpp"
      ],
      "metadata": {
        "id": "2qO6_xW7G5jf"
      },
      "execution_count": null,
      "outputs": []
    },
    {
      "cell_type": "code",
      "source": [
        "! ./a.out"
      ],
      "metadata": {
        "id": "POwEI1omHAqg",
        "outputId": "69b3081b-0f0c-484a-c0bd-a75257c90667",
        "colab": {
          "base_uri": "https://localhost:8080/"
        }
      },
      "execution_count": null,
      "outputs": [
        {
          "output_type": "stream",
          "name": "stdout",
          "text": [
            "Hello, world!\n"
          ]
        }
      ]
    }
  ]
}